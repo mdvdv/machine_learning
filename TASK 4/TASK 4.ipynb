{
 "cells": [
  {
   "cell_type": "markdown",
   "id": "b178c3c8",
   "metadata": {},
   "source": [
    "<h1>TASK 4</h1>"
   ]
  },
  {
   "cell_type": "markdown",
   "id": "a1020ee2",
   "metadata": {},
   "source": [
    "<a name='000'></a>\n",
    "\n",
    "<h2>Content</h2>\n",
    "\n",
    "<ul>\n",
    "    <ol type='1'>\n",
    "    <li><a href='#001'>Environment Configuration</a></li>\n",
    "    <li><a href='#002'>Text Preprocessing</a></li>\n",
    "    <li><a href='#003'>Finding Top 10 Most Important Words from Each Chapter</a></li>\n",
    "    <li><a href='#004'>Finding Top 10 Most Used Verbs in Sentences with Alice</a></li>\n",
    "    </ol>\n",
    "</ul>"
   ]
  },
  {
   "cell_type": "markdown",
   "id": "2d812138",
   "metadata": {},
   "source": [
    "<a name='001'></a>\n",
    "\n",
    "<h2>Environment Configuration</h2>"
   ]
  },
  {
   "cell_type": "markdown",
   "id": "04eaae15",
   "metadata": {},
   "source": [
    "Importing environment."
   ]
  },
  {
   "cell_type": "code",
   "execution_count": 1,
   "id": "2f4cc4bf",
   "metadata": {},
   "outputs": [],
   "source": [
    "import nltk\n",
    "from nltk import word_tokenize\n",
    "from nltk.corpus import stopwords\n",
    "from nltk.stem.wordnet import WordNetLemmatizer\n",
    "from sklearn.feature_extraction.text import TfidfVectorizer\n",
    "\n",
    "import pandas as pd\n",
    "import re\n",
    "import seaborn as sns\n",
    "import matplotlib.pyplot as plt\n",
    "from collections import Counter"
   ]
  },
  {
   "cell_type": "markdown",
   "id": "e66f2752",
   "metadata": {},
   "source": [
    "<a name='002'></a>\n",
    "\n",
    "<h2>Text Preprocessing</h2>"
   ]
  },
  {
   "cell_type": "markdown",
   "id": "035f2e72",
   "metadata": {},
   "source": [
    "Extracting relevant part of the text from file."
   ]
  },
  {
   "cell_type": "code",
   "execution_count": 2,
   "id": "bf930ccf",
   "metadata": {},
   "outputs": [],
   "source": [
    "filepath = 'text.txt'\n",
    "begin = 'CHAPTER XII.   Alice’s Evidence'\n",
    "end = 'THE END'\n",
    "delimiter = 'CHAPTER '\n",
    "\n",
    "with open(filepath, 'r', encoding='utf8') as file:\n",
    "    text = file.read()"
   ]
  },
  {
   "cell_type": "code",
   "execution_count": 3,
   "id": "b93e3466",
   "metadata": {},
   "outputs": [],
   "source": [
    "splitted_text = text.split(begin)[1]\n",
    "splitted_text = splitted_text.split(end)[0]\n",
    "splitted_text = splitted_text.split(delimiter)[1:]"
   ]
  },
  {
   "cell_type": "markdown",
   "id": "c50eb53b",
   "metadata": {},
   "source": [
    "Splitting text into chapters and visualization."
   ]
  },
  {
   "cell_type": "code",
   "execution_count": 4,
   "id": "3fbf3f48",
   "metadata": {},
   "outputs": [
    {
     "data": {
      "text/html": [
       "<div>\n",
       "<style scoped>\n",
       "    .dataframe tbody tr th:only-of-type {\n",
       "        vertical-align: middle;\n",
       "    }\n",
       "\n",
       "    .dataframe tbody tr th {\n",
       "        vertical-align: top;\n",
       "    }\n",
       "\n",
       "    .dataframe thead th {\n",
       "        text-align: right;\n",
       "    }\n",
       "</style>\n",
       "<table border=\"1\" class=\"dataframe\">\n",
       "  <thead>\n",
       "    <tr style=\"text-align: right;\">\n",
       "      <th></th>\n",
       "      <th>chapter</th>\n",
       "      <th>text</th>\n",
       "    </tr>\n",
       "  </thead>\n",
       "  <tbody>\n",
       "    <tr>\n",
       "      <th>0</th>\n",
       "      <td>CHAPTER 1</td>\n",
       "      <td>I.\\nDown the Rabbit-Hole\\n\\n\\nAlice was beginn...</td>\n",
       "    </tr>\n",
       "    <tr>\n",
       "      <th>1</th>\n",
       "      <td>CHAPTER 2</td>\n",
       "      <td>II.\\nThe Pool of Tears\\n\\n\\n“Curiouser and cur...</td>\n",
       "    </tr>\n",
       "    <tr>\n",
       "      <th>2</th>\n",
       "      <td>CHAPTER 3</td>\n",
       "      <td>III.\\nA Caucus-Race and a Long Tale\\n\\n\\nThey ...</td>\n",
       "    </tr>\n",
       "    <tr>\n",
       "      <th>3</th>\n",
       "      <td>CHAPTER 4</td>\n",
       "      <td>IV.\\nThe Rabbit Sends in a Little Bill\\n\\n\\nIt...</td>\n",
       "    </tr>\n",
       "    <tr>\n",
       "      <th>4</th>\n",
       "      <td>CHAPTER 5</td>\n",
       "      <td>V.\\nAdvice from a Caterpillar\\n\\n\\nThe Caterpi...</td>\n",
       "    </tr>\n",
       "    <tr>\n",
       "      <th>5</th>\n",
       "      <td>CHAPTER 6</td>\n",
       "      <td>VI.\\nPig and Pepper\\n\\n\\nFor a minute or two s...</td>\n",
       "    </tr>\n",
       "    <tr>\n",
       "      <th>6</th>\n",
       "      <td>CHAPTER 7</td>\n",
       "      <td>VII.\\nA Mad Tea-Party\\n\\n\\nThere was a table s...</td>\n",
       "    </tr>\n",
       "    <tr>\n",
       "      <th>7</th>\n",
       "      <td>CHAPTER 8</td>\n",
       "      <td>VIII.\\nThe Queen’s Croquet-Ground\\n\\n\\nA large...</td>\n",
       "    </tr>\n",
       "    <tr>\n",
       "      <th>8</th>\n",
       "      <td>CHAPTER 9</td>\n",
       "      <td>IX.\\nThe Mock Turtle’s Story\\n\\n\\n“You can’t t...</td>\n",
       "    </tr>\n",
       "    <tr>\n",
       "      <th>9</th>\n",
       "      <td>CHAPTER 10</td>\n",
       "      <td>X.\\nThe Lobster Quadrille\\n\\n\\nThe Mock Turtle...</td>\n",
       "    </tr>\n",
       "    <tr>\n",
       "      <th>10</th>\n",
       "      <td>CHAPTER 11</td>\n",
       "      <td>XI.\\nWho Stole the Tarts?\\n\\n\\nThe King and Qu...</td>\n",
       "    </tr>\n",
       "    <tr>\n",
       "      <th>11</th>\n",
       "      <td>CHAPTER 12</td>\n",
       "      <td>XII.\\nAlice’s Evidence\\n\\n\\n“Here!” cried Alic...</td>\n",
       "    </tr>\n",
       "  </tbody>\n",
       "</table>\n",
       "</div>"
      ],
      "text/plain": [
       "       chapter                                               text\n",
       "0    CHAPTER 1  I.\\nDown the Rabbit-Hole\\n\\n\\nAlice was beginn...\n",
       "1    CHAPTER 2  II.\\nThe Pool of Tears\\n\\n\\n“Curiouser and cur...\n",
       "2    CHAPTER 3  III.\\nA Caucus-Race and a Long Tale\\n\\n\\nThey ...\n",
       "3    CHAPTER 4  IV.\\nThe Rabbit Sends in a Little Bill\\n\\n\\nIt...\n",
       "4    CHAPTER 5  V.\\nAdvice from a Caterpillar\\n\\n\\nThe Caterpi...\n",
       "5    CHAPTER 6  VI.\\nPig and Pepper\\n\\n\\nFor a minute or two s...\n",
       "6    CHAPTER 7  VII.\\nA Mad Tea-Party\\n\\n\\nThere was a table s...\n",
       "7    CHAPTER 8  VIII.\\nThe Queen’s Croquet-Ground\\n\\n\\nA large...\n",
       "8    CHAPTER 9  IX.\\nThe Mock Turtle’s Story\\n\\n\\n“You can’t t...\n",
       "9   CHAPTER 10  X.\\nThe Lobster Quadrille\\n\\n\\nThe Mock Turtle...\n",
       "10  CHAPTER 11  XI.\\nWho Stole the Tarts?\\n\\n\\nThe King and Qu...\n",
       "11  CHAPTER 12  XII.\\nAlice’s Evidence\\n\\n\\n“Here!” cried Alic..."
      ]
     },
     "execution_count": 4,
     "metadata": {},
     "output_type": "execute_result"
    }
   ],
   "source": [
    "alice_df = pd.DataFrame()\n",
    "\n",
    "for index in range(12):\n",
    "    alice_df.loc[index, 'chapter'] = 'CHAPTER {}'.format(index+1)\n",
    "    alice_df.loc[index, 'text'] = splitted_text[index]\n",
    "\n",
    "alice_df"
   ]
  },
  {
   "cell_type": "markdown",
   "id": "71196a75",
   "metadata": {},
   "source": [
    "Text preprocessing using removing non-alphabetic characters and stop words, converting to lower case and lemmatization."
   ]
  },
  {
   "cell_type": "code",
   "execution_count": 5,
   "id": "dd68e007",
   "metadata": {},
   "outputs": [],
   "source": [
    "def text_preprocessing(text):\n",
    "    text = re.sub('[^a-zA-Z ]+', ' ', text)\n",
    "    text = re.sub(' +', ' ', text)\n",
    "    \n",
    "    text = text.lower()\n",
    "    \n",
    "    tokens = word_tokenize(text)\n",
    "    \n",
    "    stoplist = set(stopwords.words('english'))\n",
    "    words = [token for token in tokens if token not in stoplist and token != 'alice']\n",
    "    \n",
    "    lemmatizer = WordNetLemmatizer()\n",
    "    lemmas = [lemmatizer.lemmatize(word) for word in words]\n",
    "    return ' '.join(lemmas)"
   ]
  },
  {
   "cell_type": "markdown",
   "id": "a9e4791e",
   "metadata": {},
   "source": [
    "Writing preprocessed text to spreadsheet."
   ]
  },
  {
   "cell_type": "code",
   "execution_count": 6,
   "id": "f2d89c9b",
   "metadata": {},
   "outputs": [
    {
     "data": {
      "text/html": [
       "<div>\n",
       "<style scoped>\n",
       "    .dataframe tbody tr th:only-of-type {\n",
       "        vertical-align: middle;\n",
       "    }\n",
       "\n",
       "    .dataframe tbody tr th {\n",
       "        vertical-align: top;\n",
       "    }\n",
       "\n",
       "    .dataframe thead th {\n",
       "        text-align: right;\n",
       "    }\n",
       "</style>\n",
       "<table border=\"1\" class=\"dataframe\">\n",
       "  <thead>\n",
       "    <tr style=\"text-align: right;\">\n",
       "      <th></th>\n",
       "      <th>chapter</th>\n",
       "      <th>text</th>\n",
       "      <th>preprocessed_text</th>\n",
       "    </tr>\n",
       "  </thead>\n",
       "  <tbody>\n",
       "    <tr>\n",
       "      <th>0</th>\n",
       "      <td>CHAPTER 1</td>\n",
       "      <td>I.\\nDown the Rabbit-Hole\\n\\n\\nAlice was beginn...</td>\n",
       "      <td>rabbit hole beginning get tired sitting sister...</td>\n",
       "    </tr>\n",
       "    <tr>\n",
       "      <th>1</th>\n",
       "      <td>CHAPTER 2</td>\n",
       "      <td>II.\\nThe Pool of Tears\\n\\n\\n“Curiouser and cur...</td>\n",
       "      <td>ii pool tear curiouser curiouser cried much su...</td>\n",
       "    </tr>\n",
       "    <tr>\n",
       "      <th>2</th>\n",
       "      <td>CHAPTER 3</td>\n",
       "      <td>III.\\nA Caucus-Race and a Long Tale\\n\\n\\nThey ...</td>\n",
       "      <td>iii caucus race long tale indeed queer looking...</td>\n",
       "    </tr>\n",
       "    <tr>\n",
       "      <th>3</th>\n",
       "      <td>CHAPTER 4</td>\n",
       "      <td>IV.\\nThe Rabbit Sends in a Little Bill\\n\\n\\nIt...</td>\n",
       "      <td>iv rabbit sends little bill white rabbit trott...</td>\n",
       "    </tr>\n",
       "    <tr>\n",
       "      <th>4</th>\n",
       "      <td>CHAPTER 5</td>\n",
       "      <td>V.\\nAdvice from a Caterpillar\\n\\n\\nThe Caterpi...</td>\n",
       "      <td>v advice caterpillar caterpillar looked time s...</td>\n",
       "    </tr>\n",
       "    <tr>\n",
       "      <th>5</th>\n",
       "      <td>CHAPTER 6</td>\n",
       "      <td>VI.\\nPig and Pepper\\n\\n\\nFor a minute or two s...</td>\n",
       "      <td>vi pig pepper minute two stood looking house w...</td>\n",
       "    </tr>\n",
       "    <tr>\n",
       "      <th>6</th>\n",
       "      <td>CHAPTER 7</td>\n",
       "      <td>VII.\\nA Mad Tea-Party\\n\\n\\nThere was a table s...</td>\n",
       "      <td>vii mad tea party table set tree front house m...</td>\n",
       "    </tr>\n",
       "    <tr>\n",
       "      <th>7</th>\n",
       "      <td>CHAPTER 8</td>\n",
       "      <td>VIII.\\nThe Queen’s Croquet-Ground\\n\\n\\nA large...</td>\n",
       "      <td>viii queen croquet ground large rose tree stoo...</td>\n",
       "    </tr>\n",
       "    <tr>\n",
       "      <th>8</th>\n",
       "      <td>CHAPTER 9</td>\n",
       "      <td>IX.\\nThe Mock Turtle’s Story\\n\\n\\n“You can’t t...</td>\n",
       "      <td>ix mock turtle story think glad see dear old t...</td>\n",
       "    </tr>\n",
       "    <tr>\n",
       "      <th>9</th>\n",
       "      <td>CHAPTER 10</td>\n",
       "      <td>X.\\nThe Lobster Quadrille\\n\\n\\nThe Mock Turtle...</td>\n",
       "      <td>x lobster quadrille mock turtle sighed deeply ...</td>\n",
       "    </tr>\n",
       "    <tr>\n",
       "      <th>10</th>\n",
       "      <td>CHAPTER 11</td>\n",
       "      <td>XI.\\nWho Stole the Tarts?\\n\\n\\nThe King and Qu...</td>\n",
       "      <td>xi stole tart king queen heart seated throne a...</td>\n",
       "    </tr>\n",
       "    <tr>\n",
       "      <th>11</th>\n",
       "      <td>CHAPTER 12</td>\n",
       "      <td>XII.\\nAlice’s Evidence\\n\\n\\n“Here!” cried Alic...</td>\n",
       "      <td>xii evidence cried quite forgetting flurry mom...</td>\n",
       "    </tr>\n",
       "  </tbody>\n",
       "</table>\n",
       "</div>"
      ],
      "text/plain": [
       "       chapter                                               text  \\\n",
       "0    CHAPTER 1  I.\\nDown the Rabbit-Hole\\n\\n\\nAlice was beginn...   \n",
       "1    CHAPTER 2  II.\\nThe Pool of Tears\\n\\n\\n“Curiouser and cur...   \n",
       "2    CHAPTER 3  III.\\nA Caucus-Race and a Long Tale\\n\\n\\nThey ...   \n",
       "3    CHAPTER 4  IV.\\nThe Rabbit Sends in a Little Bill\\n\\n\\nIt...   \n",
       "4    CHAPTER 5  V.\\nAdvice from a Caterpillar\\n\\n\\nThe Caterpi...   \n",
       "5    CHAPTER 6  VI.\\nPig and Pepper\\n\\n\\nFor a minute or two s...   \n",
       "6    CHAPTER 7  VII.\\nA Mad Tea-Party\\n\\n\\nThere was a table s...   \n",
       "7    CHAPTER 8  VIII.\\nThe Queen’s Croquet-Ground\\n\\n\\nA large...   \n",
       "8    CHAPTER 9  IX.\\nThe Mock Turtle’s Story\\n\\n\\n“You can’t t...   \n",
       "9   CHAPTER 10  X.\\nThe Lobster Quadrille\\n\\n\\nThe Mock Turtle...   \n",
       "10  CHAPTER 11  XI.\\nWho Stole the Tarts?\\n\\n\\nThe King and Qu...   \n",
       "11  CHAPTER 12  XII.\\nAlice’s Evidence\\n\\n\\n“Here!” cried Alic...   \n",
       "\n",
       "                                    preprocessed_text  \n",
       "0   rabbit hole beginning get tired sitting sister...  \n",
       "1   ii pool tear curiouser curiouser cried much su...  \n",
       "2   iii caucus race long tale indeed queer looking...  \n",
       "3   iv rabbit sends little bill white rabbit trott...  \n",
       "4   v advice caterpillar caterpillar looked time s...  \n",
       "5   vi pig pepper minute two stood looking house w...  \n",
       "6   vii mad tea party table set tree front house m...  \n",
       "7   viii queen croquet ground large rose tree stoo...  \n",
       "8   ix mock turtle story think glad see dear old t...  \n",
       "9   x lobster quadrille mock turtle sighed deeply ...  \n",
       "10  xi stole tart king queen heart seated throne a...  \n",
       "11  xii evidence cried quite forgetting flurry mom...  "
      ]
     },
     "execution_count": 6,
     "metadata": {},
     "output_type": "execute_result"
    }
   ],
   "source": [
    "for index in range(len(alice_df)):\n",
    "    alice_df.loc[index, 'preprocessed_text'] = text_preprocessing(alice_df.loc[index, 'text'])\n",
    "\n",
    "alice_df"
   ]
  },
  {
   "cell_type": "markdown",
   "id": "15f566f4",
   "metadata": {},
   "source": [
    "<a name='003'></a>\n",
    "\n",
    "<h2>Finding Top 10 Most Important Words from Each Chapter</h2>"
   ]
  },
  {
   "cell_type": "markdown",
   "id": "bd6e8354",
   "metadata": {},
   "source": [
    "Building function for extracting text features using `TfidfVectorizer`.\n",
    "\n",
    "Building function to visualize results."
   ]
  },
  {
   "cell_type": "code",
   "execution_count": 7,
   "id": "4fd55c97",
   "metadata": {},
   "outputs": [],
   "source": [
    "def feature_extraction(text):\n",
    "    vectorizer = TfidfVectorizer()\n",
    "    vectorizer.fit(text)\n",
    "    \n",
    "    data = vectorizer.transform(text)\n",
    "    df = pd.DataFrame(data.toarray(), columns=vectorizer.get_feature_names())\n",
    "    return df\n",
    "\n",
    "def plot_bar(data, index):\n",
    "    figure, ax = plt.subplots(1, 1, figsize=(10, 5))\n",
    "    sns.set_theme(style='whitegrid', palette='pastel')\n",
    "    \n",
    "    ax = top.plot.bar(rot=0)\n",
    "    ax.set(xlabel='Word')\n",
    "    ax.set(ylabel='Value')\n",
    "    ax.set_title('Chapter {}'.format(index))\n",
    "    \n",
    "    plt.show()"
   ]
  },
  {
   "cell_type": "markdown",
   "id": "c0b6c4c6",
   "metadata": {},
   "source": [
    "Extracting and visualizing text features using `TfidfVectorizer`."
   ]
  },
  {
   "cell_type": "code",
   "execution_count": 8,
   "id": "0364623f",
   "metadata": {},
   "outputs": [
    {
     "data": {
      "text/html": [
       "<div>\n",
       "<style scoped>\n",
       "    .dataframe tbody tr th:only-of-type {\n",
       "        vertical-align: middle;\n",
       "    }\n",
       "\n",
       "    .dataframe tbody tr th {\n",
       "        vertical-align: top;\n",
       "    }\n",
       "\n",
       "    .dataframe thead th {\n",
       "        text-align: right;\n",
       "    }\n",
       "</style>\n",
       "<table border=\"1\" class=\"dataframe\">\n",
       "  <thead>\n",
       "    <tr style=\"text-align: right;\">\n",
       "      <th></th>\n",
       "      <th>abide</th>\n",
       "      <th>able</th>\n",
       "      <th>absence</th>\n",
       "      <th>absurd</th>\n",
       "      <th>acceptance</th>\n",
       "      <th>accident</th>\n",
       "      <th>accidentally</th>\n",
       "      <th>account</th>\n",
       "      <th>accounting</th>\n",
       "      <th>accusation</th>\n",
       "      <th>...</th>\n",
       "      <th>yelled</th>\n",
       "      <th>yelp</th>\n",
       "      <th>yer</th>\n",
       "      <th>yes</th>\n",
       "      <th>yesterday</th>\n",
       "      <th>yet</th>\n",
       "      <th>young</th>\n",
       "      <th>youth</th>\n",
       "      <th>zealand</th>\n",
       "      <th>zigzag</th>\n",
       "    </tr>\n",
       "  </thead>\n",
       "  <tbody>\n",
       "    <tr>\n",
       "      <th>0</th>\n",
       "      <td>0.000000</td>\n",
       "      <td>0.000000</td>\n",
       "      <td>0.000000</td>\n",
       "      <td>0.000000</td>\n",
       "      <td>0.000000</td>\n",
       "      <td>0.000000</td>\n",
       "      <td>0.000000</td>\n",
       "      <td>0.000000</td>\n",
       "      <td>0.000000</td>\n",
       "      <td>0.000000</td>\n",
       "      <td>...</td>\n",
       "      <td>0.000000</td>\n",
       "      <td>0.000000</td>\n",
       "      <td>0.000000</td>\n",
       "      <td>0.016908</td>\n",
       "      <td>0.000000</td>\n",
       "      <td>0.000000</td>\n",
       "      <td>0.000000</td>\n",
       "      <td>0.000000</td>\n",
       "      <td>0.032687</td>\n",
       "      <td>0.000000</td>\n",
       "    </tr>\n",
       "    <tr>\n",
       "      <th>1</th>\n",
       "      <td>0.000000</td>\n",
       "      <td>0.031045</td>\n",
       "      <td>0.000000</td>\n",
       "      <td>0.000000</td>\n",
       "      <td>0.000000</td>\n",
       "      <td>0.000000</td>\n",
       "      <td>0.000000</td>\n",
       "      <td>0.000000</td>\n",
       "      <td>0.000000</td>\n",
       "      <td>0.000000</td>\n",
       "      <td>...</td>\n",
       "      <td>0.000000</td>\n",
       "      <td>0.000000</td>\n",
       "      <td>0.000000</td>\n",
       "      <td>0.000000</td>\n",
       "      <td>0.023552</td>\n",
       "      <td>0.013646</td>\n",
       "      <td>0.000000</td>\n",
       "      <td>0.000000</td>\n",
       "      <td>0.000000</td>\n",
       "      <td>0.000000</td>\n",
       "    </tr>\n",
       "    <tr>\n",
       "      <th>2</th>\n",
       "      <td>0.000000</td>\n",
       "      <td>0.000000</td>\n",
       "      <td>0.000000</td>\n",
       "      <td>0.026442</td>\n",
       "      <td>0.030789</td>\n",
       "      <td>0.000000</td>\n",
       "      <td>0.000000</td>\n",
       "      <td>0.000000</td>\n",
       "      <td>0.000000</td>\n",
       "      <td>0.000000</td>\n",
       "      <td>...</td>\n",
       "      <td>0.000000</td>\n",
       "      <td>0.000000</td>\n",
       "      <td>0.000000</td>\n",
       "      <td>0.015926</td>\n",
       "      <td>0.000000</td>\n",
       "      <td>0.000000</td>\n",
       "      <td>0.020965</td>\n",
       "      <td>0.000000</td>\n",
       "      <td>0.000000</td>\n",
       "      <td>0.000000</td>\n",
       "    </tr>\n",
       "    <tr>\n",
       "      <th>3</th>\n",
       "      <td>0.000000</td>\n",
       "      <td>0.000000</td>\n",
       "      <td>0.000000</td>\n",
       "      <td>0.000000</td>\n",
       "      <td>0.000000</td>\n",
       "      <td>0.000000</td>\n",
       "      <td>0.000000</td>\n",
       "      <td>0.000000</td>\n",
       "      <td>0.000000</td>\n",
       "      <td>0.000000</td>\n",
       "      <td>...</td>\n",
       "      <td>0.000000</td>\n",
       "      <td>0.025703</td>\n",
       "      <td>0.102811</td>\n",
       "      <td>0.000000</td>\n",
       "      <td>0.000000</td>\n",
       "      <td>0.045193</td>\n",
       "      <td>0.000000</td>\n",
       "      <td>0.000000</td>\n",
       "      <td>0.000000</td>\n",
       "      <td>0.000000</td>\n",
       "    </tr>\n",
       "    <tr>\n",
       "      <th>4</th>\n",
       "      <td>0.000000</td>\n",
       "      <td>0.000000</td>\n",
       "      <td>0.000000</td>\n",
       "      <td>0.000000</td>\n",
       "      <td>0.000000</td>\n",
       "      <td>0.000000</td>\n",
       "      <td>0.000000</td>\n",
       "      <td>0.000000</td>\n",
       "      <td>0.000000</td>\n",
       "      <td>0.000000</td>\n",
       "      <td>...</td>\n",
       "      <td>0.000000</td>\n",
       "      <td>0.000000</td>\n",
       "      <td>0.000000</td>\n",
       "      <td>0.000000</td>\n",
       "      <td>0.000000</td>\n",
       "      <td>0.052541</td>\n",
       "      <td>0.016278</td>\n",
       "      <td>0.143434</td>\n",
       "      <td>0.000000</td>\n",
       "      <td>0.023906</td>\n",
       "    </tr>\n",
       "    <tr>\n",
       "      <th>5</th>\n",
       "      <td>0.022229</td>\n",
       "      <td>0.000000</td>\n",
       "      <td>0.000000</td>\n",
       "      <td>0.019090</td>\n",
       "      <td>0.000000</td>\n",
       "      <td>0.000000</td>\n",
       "      <td>0.000000</td>\n",
       "      <td>0.000000</td>\n",
       "      <td>0.000000</td>\n",
       "      <td>0.000000</td>\n",
       "      <td>...</td>\n",
       "      <td>0.000000</td>\n",
       "      <td>0.000000</td>\n",
       "      <td>0.000000</td>\n",
       "      <td>0.000000</td>\n",
       "      <td>0.000000</td>\n",
       "      <td>0.009771</td>\n",
       "      <td>0.000000</td>\n",
       "      <td>0.000000</td>\n",
       "      <td>0.000000</td>\n",
       "      <td>0.000000</td>\n",
       "    </tr>\n",
       "    <tr>\n",
       "      <th>6</th>\n",
       "      <td>0.000000</td>\n",
       "      <td>0.000000</td>\n",
       "      <td>0.000000</td>\n",
       "      <td>0.000000</td>\n",
       "      <td>0.000000</td>\n",
       "      <td>0.000000</td>\n",
       "      <td>0.000000</td>\n",
       "      <td>0.015687</td>\n",
       "      <td>0.000000</td>\n",
       "      <td>0.000000</td>\n",
       "      <td>...</td>\n",
       "      <td>0.000000</td>\n",
       "      <td>0.000000</td>\n",
       "      <td>0.000000</td>\n",
       "      <td>0.028345</td>\n",
       "      <td>0.000000</td>\n",
       "      <td>0.024088</td>\n",
       "      <td>0.012438</td>\n",
       "      <td>0.000000</td>\n",
       "      <td>0.000000</td>\n",
       "      <td>0.000000</td>\n",
       "    </tr>\n",
       "    <tr>\n",
       "      <th>7</th>\n",
       "      <td>0.000000</td>\n",
       "      <td>0.000000</td>\n",
       "      <td>0.000000</td>\n",
       "      <td>0.000000</td>\n",
       "      <td>0.000000</td>\n",
       "      <td>0.000000</td>\n",
       "      <td>0.000000</td>\n",
       "      <td>0.018849</td>\n",
       "      <td>0.000000</td>\n",
       "      <td>0.000000</td>\n",
       "      <td>...</td>\n",
       "      <td>0.000000</td>\n",
       "      <td>0.000000</td>\n",
       "      <td>0.000000</td>\n",
       "      <td>0.022706</td>\n",
       "      <td>0.016651</td>\n",
       "      <td>0.009648</td>\n",
       "      <td>0.000000</td>\n",
       "      <td>0.000000</td>\n",
       "      <td>0.000000</td>\n",
       "      <td>0.000000</td>\n",
       "    </tr>\n",
       "    <tr>\n",
       "      <th>8</th>\n",
       "      <td>0.000000</td>\n",
       "      <td>0.000000</td>\n",
       "      <td>0.020322</td>\n",
       "      <td>0.000000</td>\n",
       "      <td>0.000000</td>\n",
       "      <td>0.000000</td>\n",
       "      <td>0.000000</td>\n",
       "      <td>0.000000</td>\n",
       "      <td>0.000000</td>\n",
       "      <td>0.000000</td>\n",
       "      <td>...</td>\n",
       "      <td>0.000000</td>\n",
       "      <td>0.000000</td>\n",
       "      <td>0.000000</td>\n",
       "      <td>0.031537</td>\n",
       "      <td>0.000000</td>\n",
       "      <td>0.017866</td>\n",
       "      <td>0.027677</td>\n",
       "      <td>0.000000</td>\n",
       "      <td>0.000000</td>\n",
       "      <td>0.000000</td>\n",
       "    </tr>\n",
       "    <tr>\n",
       "      <th>9</th>\n",
       "      <td>0.000000</td>\n",
       "      <td>0.000000</td>\n",
       "      <td>0.000000</td>\n",
       "      <td>0.000000</td>\n",
       "      <td>0.000000</td>\n",
       "      <td>0.000000</td>\n",
       "      <td>0.000000</td>\n",
       "      <td>0.000000</td>\n",
       "      <td>0.017512</td>\n",
       "      <td>0.000000</td>\n",
       "      <td>...</td>\n",
       "      <td>0.017512</td>\n",
       "      <td>0.000000</td>\n",
       "      <td>0.000000</td>\n",
       "      <td>0.018117</td>\n",
       "      <td>0.013285</td>\n",
       "      <td>0.000000</td>\n",
       "      <td>0.000000</td>\n",
       "      <td>0.000000</td>\n",
       "      <td>0.000000</td>\n",
       "      <td>0.000000</td>\n",
       "    </tr>\n",
       "    <tr>\n",
       "      <th>10</th>\n",
       "      <td>0.000000</td>\n",
       "      <td>0.000000</td>\n",
       "      <td>0.000000</td>\n",
       "      <td>0.000000</td>\n",
       "      <td>0.000000</td>\n",
       "      <td>0.000000</td>\n",
       "      <td>0.000000</td>\n",
       "      <td>0.000000</td>\n",
       "      <td>0.000000</td>\n",
       "      <td>0.022751</td>\n",
       "      <td>...</td>\n",
       "      <td>0.000000</td>\n",
       "      <td>0.000000</td>\n",
       "      <td>0.000000</td>\n",
       "      <td>0.011768</td>\n",
       "      <td>0.000000</td>\n",
       "      <td>0.040003</td>\n",
       "      <td>0.000000</td>\n",
       "      <td>0.000000</td>\n",
       "      <td>0.000000</td>\n",
       "      <td>0.000000</td>\n",
       "    </tr>\n",
       "    <tr>\n",
       "      <th>11</th>\n",
       "      <td>0.000000</td>\n",
       "      <td>0.000000</td>\n",
       "      <td>0.000000</td>\n",
       "      <td>0.000000</td>\n",
       "      <td>0.000000</td>\n",
       "      <td>0.051442</td>\n",
       "      <td>0.025721</td>\n",
       "      <td>0.000000</td>\n",
       "      <td>0.000000</td>\n",
       "      <td>0.000000</td>\n",
       "      <td>...</td>\n",
       "      <td>0.000000</td>\n",
       "      <td>0.000000</td>\n",
       "      <td>0.000000</td>\n",
       "      <td>0.000000</td>\n",
       "      <td>0.000000</td>\n",
       "      <td>0.045225</td>\n",
       "      <td>0.000000</td>\n",
       "      <td>0.000000</td>\n",
       "      <td>0.000000</td>\n",
       "      <td>0.000000</td>\n",
       "    </tr>\n",
       "  </tbody>\n",
       "</table>\n",
       "<p>12 rows × 2230 columns</p>\n",
       "</div>"
      ],
      "text/plain": [
       "       abide      able   absence    absurd  acceptance  accident  \\\n",
       "0   0.000000  0.000000  0.000000  0.000000    0.000000  0.000000   \n",
       "1   0.000000  0.031045  0.000000  0.000000    0.000000  0.000000   \n",
       "2   0.000000  0.000000  0.000000  0.026442    0.030789  0.000000   \n",
       "3   0.000000  0.000000  0.000000  0.000000    0.000000  0.000000   \n",
       "4   0.000000  0.000000  0.000000  0.000000    0.000000  0.000000   \n",
       "5   0.022229  0.000000  0.000000  0.019090    0.000000  0.000000   \n",
       "6   0.000000  0.000000  0.000000  0.000000    0.000000  0.000000   \n",
       "7   0.000000  0.000000  0.000000  0.000000    0.000000  0.000000   \n",
       "8   0.000000  0.000000  0.020322  0.000000    0.000000  0.000000   \n",
       "9   0.000000  0.000000  0.000000  0.000000    0.000000  0.000000   \n",
       "10  0.000000  0.000000  0.000000  0.000000    0.000000  0.000000   \n",
       "11  0.000000  0.000000  0.000000  0.000000    0.000000  0.051442   \n",
       "\n",
       "    accidentally   account  accounting  accusation  ...    yelled      yelp  \\\n",
       "0       0.000000  0.000000    0.000000    0.000000  ...  0.000000  0.000000   \n",
       "1       0.000000  0.000000    0.000000    0.000000  ...  0.000000  0.000000   \n",
       "2       0.000000  0.000000    0.000000    0.000000  ...  0.000000  0.000000   \n",
       "3       0.000000  0.000000    0.000000    0.000000  ...  0.000000  0.025703   \n",
       "4       0.000000  0.000000    0.000000    0.000000  ...  0.000000  0.000000   \n",
       "5       0.000000  0.000000    0.000000    0.000000  ...  0.000000  0.000000   \n",
       "6       0.000000  0.015687    0.000000    0.000000  ...  0.000000  0.000000   \n",
       "7       0.000000  0.018849    0.000000    0.000000  ...  0.000000  0.000000   \n",
       "8       0.000000  0.000000    0.000000    0.000000  ...  0.000000  0.000000   \n",
       "9       0.000000  0.000000    0.017512    0.000000  ...  0.017512  0.000000   \n",
       "10      0.000000  0.000000    0.000000    0.022751  ...  0.000000  0.000000   \n",
       "11      0.025721  0.000000    0.000000    0.000000  ...  0.000000  0.000000   \n",
       "\n",
       "         yer       yes  yesterday       yet     young     youth   zealand  \\\n",
       "0   0.000000  0.016908   0.000000  0.000000  0.000000  0.000000  0.032687   \n",
       "1   0.000000  0.000000   0.023552  0.013646  0.000000  0.000000  0.000000   \n",
       "2   0.000000  0.015926   0.000000  0.000000  0.020965  0.000000  0.000000   \n",
       "3   0.102811  0.000000   0.000000  0.045193  0.000000  0.000000  0.000000   \n",
       "4   0.000000  0.000000   0.000000  0.052541  0.016278  0.143434  0.000000   \n",
       "5   0.000000  0.000000   0.000000  0.009771  0.000000  0.000000  0.000000   \n",
       "6   0.000000  0.028345   0.000000  0.024088  0.012438  0.000000  0.000000   \n",
       "7   0.000000  0.022706   0.016651  0.009648  0.000000  0.000000  0.000000   \n",
       "8   0.000000  0.031537   0.000000  0.017866  0.027677  0.000000  0.000000   \n",
       "9   0.000000  0.018117   0.013285  0.000000  0.000000  0.000000  0.000000   \n",
       "10  0.000000  0.011768   0.000000  0.040003  0.000000  0.000000  0.000000   \n",
       "11  0.000000  0.000000   0.000000  0.045225  0.000000  0.000000  0.000000   \n",
       "\n",
       "      zigzag  \n",
       "0   0.000000  \n",
       "1   0.000000  \n",
       "2   0.000000  \n",
       "3   0.000000  \n",
       "4   0.023906  \n",
       "5   0.000000  \n",
       "6   0.000000  \n",
       "7   0.000000  \n",
       "8   0.000000  \n",
       "9   0.000000  \n",
       "10  0.000000  \n",
       "11  0.000000  \n",
       "\n",
       "[12 rows x 2230 columns]"
      ]
     },
     "execution_count": 8,
     "metadata": {},
     "output_type": "execute_result"
    }
   ],
   "source": [
    "features = feature_extraction(alice_df['preprocessed_text'])\n",
    "features"
   ]
  },
  {
   "cell_type": "markdown",
   "id": "ee4fc982",
   "metadata": {},
   "source": [
    "Sorting extracted features to find top 10 most important words.\n",
    "\n",
    "Visualization of the results."
   ]
  },
  {
   "cell_type": "code",
   "execution_count": 10,
   "id": "6e724a8c",
   "metadata": {},
   "outputs": [
    {
     "name": "stdout",
     "output_type": "stream",
     "text": [
      "10 Most Important Words for Chapter 1\n",
      "1. little\n",
      "2. bat\n",
      "3. rabbit\n",
      "4. door\n",
      "5. key\n",
      "6. way\n",
      "7. eat\n",
      "8. like\n",
      "9. think\n",
      "10. either\n"
     ]
    },
    {
     "data": {
      "image/png": "[encoded data removed]",
      "text/plain": [
       "<Figure size 720x360 with 1 Axes>"
      ]
     },
     "metadata": {},
     "output_type": "display_data"
    },
    {
     "name": "stdout",
     "output_type": "stream",
     "text": [
      "10 Most Important Words for Chapter 2\n",
      "1. mouse\n",
      "2. pool\n",
      "3. little\n",
      "4. oh\n",
      "5. swam\n",
      "6. cat\n",
      "7. dear\n",
      "8. said\n",
      "9. foot\n",
      "10. mabel\n"
     ]
    },
    {
     "data": {
      "image/png": "[encoded data removed]",
      "text/plain": [
       "<Figure size 720x360 with 1 Axes>"
      ]
     },
     "metadata": {},
     "output_type": "display_data"
    },
    {
     "name": "stdout",
     "output_type": "stream",
     "text": [
      "10 Most Important Words for Chapter 3\n",
      "1. said\n",
      "2. mouse\n",
      "3. dodo\n",
      "4. race\n",
      "5. prize\n",
      "6. lory\n",
      "7. dry\n",
      "8. thimble\n",
      "9. know\n",
      "10. bird\n"
     ]
    },
    {
     "data": {
      "image/png": "[encoded data removed]",
      "text/plain": [
       "<Figure size 720x360 with 1 Axes>"
      ]
     },
     "metadata": {},
     "output_type": "display_data"
    },
    {
     "name": "stdout",
     "output_type": "stream",
     "text": [
      "10 Most Important Words for Chapter 4\n",
      "1. bill\n",
      "2. rabbit\n",
      "3. little\n",
      "4. window\n",
      "5. puppy\n",
      "6. glove\n",
      "7. one\n",
      "8. chimney\n",
      "9. bottle\n",
      "10. fan\n"
     ]
    },
    {
     "data": {
      "image/png": "[encoded data removed]",
      "text/plain": [
       "<Figure size 720x360 with 1 Axes>"
      ]
     },
     "metadata": {},
     "output_type": "display_data"
    },
    {
     "name": "stdout",
     "output_type": "stream",
     "text": [
      "10 Most Important Words for Chapter 5\n",
      "1. caterpillar\n",
      "2. said\n",
      "3. pigeon\n",
      "4. serpent\n",
      "5. egg\n",
      "6. youth\n",
      "7. size\n",
      "8. father\n",
      "9. little\n",
      "10. well\n"
     ]
    },
    {
     "data": {
      "image/png": "[encoded data removed]",
      "text/plain": [
       "<Figure size 720x360 with 1 Axes>"
      ]
     },
     "metadata": {},
     "output_type": "display_data"
    },
    {
     "name": "stdout",
     "output_type": "stream",
     "text": [
      "10 Most Important Words for Chapter 6\n",
      "1. said\n",
      "2. footman\n",
      "3. cat\n",
      "4. baby\n",
      "5. mad\n",
      "6. duchess\n",
      "7. wow\n",
      "8. like\n",
      "9. pig\n",
      "10. cook\n"
     ]
    },
    {
     "data": {
      "image/png": "[encoded data removed]",
      "text/plain": [
       "<Figure size 720x360 with 1 Axes>"
      ]
     },
     "metadata": {},
     "output_type": "display_data"
    },
    {
     "name": "stdout",
     "output_type": "stream",
     "text": [
      "10 Most Important Words for Chapter 7\n",
      "1. hatter\n",
      "2. dormouse\n",
      "3. said\n",
      "4. march\n",
      "5. hare\n",
      "6. tea\n",
      "7. twinkle\n",
      "8. time\n",
      "9. well\n",
      "10. treacle\n"
     ]
    },
    {
     "data": {
      "image/png": "[encoded data removed]",
      "text/plain": [
       "<Figure size 720x360 with 1 Axes>"
      ]
     },
     "metadata": {},
     "output_type": "display_data"
    },
    {
     "name": "stdout",
     "output_type": "stream",
     "text": [
      "10 Most Important Words for Chapter 8\n",
      "1. queen\n",
      "2. said\n",
      "3. hedgehog\n",
      "4. king\n",
      "5. gardener\n",
      "6. soldier\n",
      "7. cat\n",
      "8. rose\n",
      "9. five\n",
      "10. executioner\n"
     ]
    },
    {
     "data": {
      "image/png": "[encoded data removed]",
      "text/plain": [
       "<Figure size 720x360 with 1 Axes>"
      ]
     },
     "metadata": {},
     "output_type": "display_data"
    },
    {
     "name": "stdout",
     "output_type": "stream",
     "text": [
      "10 Most Important Words for Chapter 9\n",
      "1. turtle\n",
      "2. said\n",
      "3. mock\n",
      "4. gryphon\n",
      "5. duchess\n",
      "6. moral\n",
      "7. queen\n",
      "8. went\n",
      "9. school\n",
      "10. never\n"
     ]
    },
    {
     "data": {
      "image/png": "[encoded data removed]",
      "text/plain": [
       "<Figure size 720x360 with 1 Axes>"
      ]
     },
     "metadata": {},
     "output_type": "display_data"
    },
    {
     "name": "stdout",
     "output_type": "stream",
     "text": [
      "10 Most Important Words for Chapter 10\n",
      "1. turtle\n",
      "2. mock\n",
      "3. gryphon\n",
      "4. said\n",
      "5. lobster\n",
      "6. dance\n",
      "7. soup\n",
      "8. join\n",
      "9. beautiful\n",
      "10. whiting\n"
     ]
    },
    {
     "data": {
      "image/png": "[encoded data removed]",
      "text/plain": [
       "<Figure size 720x360 with 1 Axes>"
      ]
     },
     "metadata": {},
     "output_type": "display_data"
    },
    {
     "name": "stdout",
     "output_type": "stream",
     "text": [
      "10 Most Important Words for Chapter 11\n",
      "1. king\n",
      "2. hatter\n",
      "3. said\n",
      "4. court\n",
      "5. dormouse\n",
      "6. witness\n",
      "7. jury\n",
      "8. queen\n",
      "9. officer\n",
      "10. juror\n"
     ]
    },
    {
     "data": {
      "image/png": "[encoded data removed]",
      "text/plain": [
       "<Figure size 720x360 with 1 Axes>"
      ]
     },
     "metadata": {},
     "output_type": "display_data"
    },
    {
     "name": "stdout",
     "output_type": "stream",
     "text": [
      "10 Most Important Words for Chapter 12\n",
      "1. said\n",
      "2. king\n",
      "3. jury\n",
      "4. queen\n",
      "5. sister\n",
      "6. important\n",
      "7. dream\n",
      "8. slate\n",
      "9. would\n",
      "10. rabbit\n"
     ]
    },
    {
     "data": {
      "image/png": "[encoded data removed]",
      "text/plain": [
       "<Figure size 720x360 with 1 Axes>"
      ]
     },
     "metadata": {},
     "output_type": "display_data"
    }
   ],
   "source": [
    "for chapter in range(len(features)):\n",
    "    top = features.loc[chapter, :].sort_values(ascending=False).head(10)\n",
    "    \n",
    "    print('10 Most Important Words for Chapter {}'.format(chapter+1))\n",
    "    for index, data in enumerate(top.index):\n",
    "        print('{}. {}'.format(index+1, data))\n",
    "    plot_bar(top, index=chapter+1)"
   ]
  },
  {
   "cell_type": "markdown",
   "id": "29a712e2",
   "metadata": {},
   "source": [
    "<a name='004'></a>\n",
    "\n",
    "<h2>Finding Top 10 Most Used Verbs in Sentences with Alice"
   ]
  },
  {
   "cell_type": "markdown",
   "id": "1b62485a",
   "metadata": {},
   "source": [
    "Splitting text into sentences.\n",
    "\n",
    "Extracting sentences with `Alice`."
   ]
  },
  {
   "cell_type": "code",
   "execution_count": 11,
   "id": "898be617",
   "metadata": {},
   "outputs": [],
   "source": [
    "splitted_text = text.split(begin)[1]\n",
    "splitted_text = splitted_text.split(end)[0]\n",
    "\n",
    "sentences = re.split('[.?!]', splitted_text)\n",
    "alice_sentences = [' '.join(sentence for sentence in sentences if 'Alice' in sentence)]"
   ]
  },
  {
   "cell_type": "markdown",
   "id": "bfc4067f",
   "metadata": {},
   "source": [
    "Text preprocessing using removing non-alphabetic characters and stop words, converting to lower case and verbs lemmatization using tagged words."
   ]
  },
  {
   "cell_type": "code",
   "execution_count": 12,
   "id": "4640894b",
   "metadata": {},
   "outputs": [],
   "source": [
    "def text_preprocessing(text):\n",
    "    text = re.sub('[^a-zA-Z ]+', ' ', text)\n",
    "    text = re.sub(' +', ' ', text)\n",
    "    \n",
    "    text = text.lower()\n",
    "    \n",
    "    tokens = word_tokenize(text)\n",
    "    \n",
    "    stoplist = set(stopwords.words('english'))\n",
    "    words = [token for token in tokens if token not in stoplist]\n",
    "    \n",
    "    lemmatizer = WordNetLemmatizer()\n",
    "    lemmas = [lemmatizer.lemmatize(word) for word in words]\n",
    "    \n",
    "    tags = nltk.pos_tag(lemmas)\n",
    "    verbs = [verb for verb, tag in tags if tag in ['VB', 'VBG', 'VBD', 'VBN', 'VBP', 'VBZ']]\n",
    "    \n",
    "    lemmas = [lemmatizer.lemmatize(verb, 'v') for verb in verbs]\n",
    "    return lemmas"
   ]
  },
  {
   "cell_type": "markdown",
   "id": "09e28464",
   "metadata": {},
   "source": [
    "Counting and visualizing actions that Alice performs most often."
   ]
  },
  {
   "cell_type": "code",
   "execution_count": 13,
   "id": "1b93408d",
   "metadata": {},
   "outputs": [
    {
     "data": {
      "text/plain": [
       "[('say', 198),\n",
       " ('go', 63),\n",
       " ('think', 51),\n",
       " ('get', 41),\n",
       " ('look', 41),\n",
       " ('begin', 31),\n",
       " ('see', 25),\n",
       " ('come', 24),\n",
       " ('know', 21),\n",
       " ('find', 20)]"
      ]
     },
     "execution_count": 13,
     "metadata": {},
     "output_type": "execute_result"
    }
   ],
   "source": [
    "Counter(text_preprocessing(alice_sentences[0])).most_common(10)"
   ]
  }
 ],
 "metadata": {
  "kernelspec": {
   "display_name": "Python 3 (ipykernel)",
   "language": "python",
   "name": "python3"
  },
  "language_info": {
   "codemirror_mode": {
    "name": "ipython",
    "version": 3
   },
   "file_extension": ".py",
   "mimetype": "text/x-python",
   "name": "python",
   "nbconvert_exporter": "python",
   "pygments_lexer": "ipython3",
   "version": "3.9.7"
  }
 },
 "nbformat": 4,
 "nbformat_minor": 5
}
